{
 "cells": [
  {
   "cell_type": "code",
   "execution_count": 2,
   "metadata": {},
   "outputs": [],
   "source": [
    "from pyfasttext import FastText"
   ]
  },
  {
   "cell_type": "code",
   "execution_count": 3,
   "metadata": {},
   "outputs": [],
   "source": [
    "model = FastText('model.bin')"
   ]
  },
  {
   "cell_type": "code",
   "execution_count": 11,
   "metadata": {},
   "outputs": [
    {
     "data": {
      "text/plain": [
       "array([-4.3981164e-04, -2.9824752e-01,  5.7381970e-01, -9.5166914e-02,\n",
       "       -8.8839971e-02,  2.9904687e-01, -7.3845580e-02, -4.2403311e-01,\n",
       "       -2.7422234e-01, -6.2016553e-01, -4.3796957e-01,  1.1911595e-01,\n",
       "        1.0384136e+00, -1.8726623e-01, -8.2853667e-02, -2.0516968e-01,\n",
       "       -3.8176113e-01,  1.3278413e-01, -4.6347025e-01, -2.7013102e-01,\n",
       "       -2.2830044e-01,  3.4583870e-01, -5.5334842e-01,  2.2963305e-01,\n",
       "        3.8978478e-01, -1.2975436e-01,  1.7357618e-01, -4.7638547e-01,\n",
       "       -2.0106696e-01,  3.6757728e-01,  6.2052864e-01,  1.1322868e-01,\n",
       "       -2.7630916e-01, -1.1249791e-01,  4.2943862e-01, -1.9508550e-01,\n",
       "        4.5914710e-01, -6.3780582e-01, -4.6412328e-01, -4.6073186e-01,\n",
       "       -8.2656652e-01, -2.3654373e-01,  5.7204429e-02,  4.3195575e-01,\n",
       "       -3.5611722e-01, -4.8660323e-02, -1.7778216e-02, -6.0577892e-02,\n",
       "       -5.5626881e-01, -4.2222682e-01, -2.2083883e-01,  3.2954666e-01,\n",
       "       -2.5368023e-01,  1.4813861e-01, -4.2801258e-01,  3.2435262e-01,\n",
       "       -4.8757628e-01,  9.9477015e-02, -1.1805139e-01,  3.6402058e-03,\n",
       "       -6.7797244e-02, -2.2643396e-01,  5.8443034e-01, -3.3215813e-02,\n",
       "       -4.0349647e-01,  1.6973689e-01, -1.5025842e-01,  1.4098513e-01,\n",
       "        1.9537383e-01,  5.1253670e-01,  4.9834710e-01, -1.4196850e-01,\n",
       "        1.0702115e-01,  2.4864013e-01,  5.8737612e-01, -1.0751177e-01,\n",
       "       -2.6856586e-01, -1.4978655e-01,  5.5701036e-02, -2.1160837e-01,\n",
       "        6.1334617e-02,  3.5695308e-01, -5.6137297e-02,  5.4260720e-02,\n",
       "        1.5493099e-01, -1.3800685e-01, -1.0785435e-01,  3.0089036e-01,\n",
       "       -1.8991375e-01,  6.2310684e-01,  2.6961598e-01, -2.3387635e-01,\n",
       "        1.4977105e-01, -2.8180495e-01, -3.5593161e-01,  6.1080072e-02,\n",
       "        4.5359403e-01, -8.2909741e-02, -1.2776671e-01, -3.5644317e-01],\n",
       "      dtype=float32)"
      ]
     },
     "execution_count": 11,
     "metadata": {},
     "output_type": "execute_result"
    }
   ],
   "source": [
    "model.get_numpy_text_vector('logistic')"
   ]
  },
  {
   "cell_type": "markdown",
   "metadata": {},
   "source": [
    "The model associates the word logistic with the word regression."
   ]
  },
  {
   "cell_type": "code",
   "execution_count": 4,
   "metadata": {},
   "outputs": [
    {
     "data": {
      "text/plain": [
       "[('regression', 0.7614724040031433),\n",
       " ('logistics', 0.7569382786750793),\n",
       " ('regressions', 0.745934784412384),\n",
       " ('regressing', 0.6686475276947021),\n",
       " ('regressors', 0.6646400094032288),\n",
       " ('regress', 0.660711407661438),\n",
       " ('regressor', 0.6559653878211975),\n",
       " ('regressed', 0.6518402099609375),\n",
       " ('multinomial', 0.6449044942855835),\n",
       " ('regressive', 0.6446226835250854)]"
      ]
     },
     "execution_count": 4,
     "metadata": {},
     "output_type": "execute_result"
    }
   ],
   "source": [
    "model.nearest_neighbors('logistic')"
   ]
  },
  {
   "cell_type": "markdown",
   "metadata": {},
   "source": [
    "The models realize that rnn (recurrent neural networks) are similar to lstms and grus (particular types of rnns)."
   ]
  },
  {
   "cell_type": "code",
   "execution_count": 7,
   "metadata": {},
   "outputs": [
    {
     "data": {
      "text/plain": [
       "[('rnns', 0.7734916806221008),\n",
       " ('arnn', 0.77052903175354),\n",
       " ('gcrnn', 0.7132187485694885),\n",
       " ('birnn', 0.6868233680725098),\n",
       " ('bilstm', 0.6806624531745911),\n",
       " ('gru', 0.6583210229873657),\n",
       " ('lstm', 0.6554061770439148),\n",
       " ('scornn', 0.6537885665893555),\n",
       " ('exprnn', 0.6530526876449585),\n",
       " ('mpnn', 0.6515893340110779)]"
      ]
     },
     "execution_count": 7,
     "metadata": {},
     "output_type": "execute_result"
    }
   ],
   "source": [
    "model.nearest_neighbors('rnn')"
   ]
  },
  {
   "cell_type": "code",
   "execution_count": 17,
   "metadata": {},
   "outputs": [
    {
     "data": {
      "text/plain": [
       "[('wsvm', 0.8237743973731995),\n",
       " ('lssvm', 0.8151067495346069),\n",
       " ('svms', 0.7826420664787292),\n",
       " ('brsvm', 0.678515613079071),\n",
       " ('rbf', 0.6556218266487122),\n",
       " ('knn', 0.639680802822113),\n",
       " ('svr', 0.6362528800964355),\n",
       " ('gbdt', 0.6246467232704163),\n",
       " ('svrt', 0.6212833523750305),\n",
       " ('svrg', 0.6081109046936035)]"
      ]
     },
     "execution_count": 17,
     "metadata": {},
     "output_type": "execute_result"
    }
   ],
   "source": [
    "model.nearest_neighbors('svm')"
   ]
  },
  {
   "cell_type": "code",
   "execution_count": null,
   "metadata": {},
   "outputs": [],
   "source": []
  }
 ],
 "metadata": {
  "kernelspec": {
   "display_name": "Python [conda env:ft_arxiv]",
   "language": "python",
   "name": "conda-env-ft_arxiv-py"
  },
  "language_info": {
   "codemirror_mode": {
    "name": "ipython",
    "version": 3
   },
   "file_extension": ".py",
   "mimetype": "text/x-python",
   "name": "python",
   "nbconvert_exporter": "python",
   "pygments_lexer": "ipython3",
   "version": "3.8.2"
  }
 },
 "nbformat": 4,
 "nbformat_minor": 2
}
