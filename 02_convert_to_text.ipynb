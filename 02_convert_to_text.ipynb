{
 "cells": [
  {
   "cell_type": "code",
   "execution_count": 4,
   "metadata": {
    "scrolled": true
   },
   "outputs": [],
   "source": [
    "import pdftotext\n",
    "import glob\n",
    "import string\n",
    "import re\n",
    "import os"
   ]
  },
  {
   "cell_type": "code",
   "execution_count": 3,
   "metadata": {},
   "outputs": [],
   "source": [
    "pdfs = glob.glob('data/*.pdf')"
   ]
  },
  {
   "cell_type": "markdown",
   "metadata": {},
   "source": [
    "Create a file to hold the text from the pdf files."
   ]
  },
  {
   "cell_type": "code",
   "execution_count": 7,
   "metadata": {},
   "outputs": [
    {
     "data": {
      "text/plain": [
       "0"
      ]
     },
     "execution_count": 7,
     "metadata": {},
     "output_type": "execute_result"
    }
   ],
   "source": [
    "os.system('touch pdf_text')"
   ]
  },
  {
   "cell_type": "code",
   "execution_count": 8,
   "metadata": {},
   "outputs": [],
   "source": [
    "output = open('pdf_text', 'a')"
   ]
  },
  {
   "cell_type": "code",
   "execution_count": 9,
   "metadata": {},
   "outputs": [],
   "source": [
    "for filename in pdfs:\n",
    "    with open(filename, 'rb') as f:\n",
    "        try:\n",
    "            pdf = pdftotext.PDF(f)\n",
    "            pdf = '\\n\\n'.join(pdf).lower()\n",
    "            pdf = re.sub('-\\s+', '', pdf)\n",
    "            pdf = ' '.join(re.findall('[a-z]{2,}', pdf))\n",
    "            output.write(pdf + '\\n')\n",
    "            #print('wrote ' + filename)\n",
    "        except:\n",
    "            print('error on ' + filename)"
   ]
  },
  {
   "cell_type": "code",
   "execution_count": null,
   "metadata": {},
   "outputs": [],
   "source": []
  }
 ],
 "metadata": {
  "kernelspec": {
   "display_name": "Python [conda env:ft_arxiv]",
   "language": "python",
   "name": "conda-env-ft_arxiv-py"
  }
 },
 "nbformat": 4,
 "nbformat_minor": 2
}
